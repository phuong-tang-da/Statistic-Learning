{
 "cells": [
  {
   "cell_type": "markdown",
   "id": "c0c4b43f",
   "metadata": {},
   "source": [
    "# Inferential statistics"
   ]
  },
  {
   "cell_type": "code",
   "execution_count": 1,
   "id": "025f8952",
   "metadata": {},
   "outputs": [],
   "source": [
    "import pandas as pd\n",
    "import numpy as np\n",
    "import scipy.stats as st\n",
    "import seaborn as sns\n",
    "import matplotlib.pyplot as plt"
   ]
  },
  {
   "cell_type": "code",
   "execution_count": 2,
   "id": "78f15fcd",
   "metadata": {},
   "outputs": [],
   "source": [
    "df= pd.read_csv(\"QMS210Group_51.csv\")"
   ]
  },
  {
   "cell_type": "code",
   "execution_count": 3,
   "id": "8bef4686",
   "metadata": {},
   "outputs": [
    {
     "data": {
      "text/html": [
       "<div>\n",
       "<style scoped>\n",
       "    .dataframe tbody tr th:only-of-type {\n",
       "        vertical-align: middle;\n",
       "    }\n",
       "\n",
       "    .dataframe tbody tr th {\n",
       "        vertical-align: top;\n",
       "    }\n",
       "\n",
       "    .dataframe thead th {\n",
       "        text-align: right;\n",
       "    }\n",
       "</style>\n",
       "<table border=\"1\" class=\"dataframe\">\n",
       "  <thead>\n",
       "    <tr style=\"text-align: right;\">\n",
       "      <th></th>\n",
       "      <th>YEAR</th>\n",
       "      <th>Model_SE_LE</th>\n",
       "      <th>Transm</th>\n",
       "      <th>Engine</th>\n",
       "      <th>TYPE_A</th>\n",
       "      <th>Cond</th>\n",
       "      <th>Color</th>\n",
       "      <th>Auction</th>\n",
       "      <th>Price</th>\n",
       "      <th>Odometer</th>\n",
       "      <th>...</th>\n",
       "      <th>SILVER</th>\n",
       "      <th>BEIGE</th>\n",
       "      <th>GREEN</th>\n",
       "      <th>GOLD</th>\n",
       "      <th>California</th>\n",
       "      <th>SEATTLE</th>\n",
       "      <th>DALLAS</th>\n",
       "      <th>ORLANDO</th>\n",
       "      <th>Pennsylvan</th>\n",
       "      <th>OHIO</th>\n",
       "    </tr>\n",
       "  </thead>\n",
       "  <tbody>\n",
       "    <tr>\n",
       "      <th>0</th>\n",
       "      <td>2010</td>\n",
       "      <td>4D SEDAN LE</td>\n",
       "      <td>A</td>\n",
       "      <td>4</td>\n",
       "      <td>Open</td>\n",
       "      <td>Avg</td>\n",
       "      <td>GRAY</td>\n",
       "      <td>NASHVILL</td>\n",
       "      <td>8190</td>\n",
       "      <td>104770</td>\n",
       "      <td>...</td>\n",
       "      <td>0</td>\n",
       "      <td>0</td>\n",
       "      <td>0</td>\n",
       "      <td>0</td>\n",
       "      <td>0</td>\n",
       "      <td>0</td>\n",
       "      <td>0</td>\n",
       "      <td>0</td>\n",
       "      <td>0</td>\n",
       "      <td>0</td>\n",
       "    </tr>\n",
       "    <tr>\n",
       "      <th>1</th>\n",
       "      <td>2012</td>\n",
       "      <td>4D SEDAN SE</td>\n",
       "      <td>M</td>\n",
       "      <td>4</td>\n",
       "      <td>Open</td>\n",
       "      <td>Avg</td>\n",
       "      <td>WHITE</td>\n",
       "      <td>ATLANTA</td>\n",
       "      <td>15300</td>\n",
       "      <td>45460</td>\n",
       "      <td>...</td>\n",
       "      <td>0</td>\n",
       "      <td>0</td>\n",
       "      <td>0</td>\n",
       "      <td>0</td>\n",
       "      <td>0</td>\n",
       "      <td>0</td>\n",
       "      <td>0</td>\n",
       "      <td>0</td>\n",
       "      <td>0</td>\n",
       "      <td>0</td>\n",
       "    </tr>\n",
       "    <tr>\n",
       "      <th>2</th>\n",
       "      <td>2011</td>\n",
       "      <td>4D SEDAN LE</td>\n",
       "      <td>A</td>\n",
       "      <td>4</td>\n",
       "      <td>Open</td>\n",
       "      <td>Above</td>\n",
       "      <td>GRAY</td>\n",
       "      <td>NASHVILL</td>\n",
       "      <td>11610</td>\n",
       "      <td>44230</td>\n",
       "      <td>...</td>\n",
       "      <td>0</td>\n",
       "      <td>0</td>\n",
       "      <td>0</td>\n",
       "      <td>0</td>\n",
       "      <td>0</td>\n",
       "      <td>0</td>\n",
       "      <td>0</td>\n",
       "      <td>0</td>\n",
       "      <td>0</td>\n",
       "      <td>0</td>\n",
       "    </tr>\n",
       "    <tr>\n",
       "      <th>3</th>\n",
       "      <td>2013</td>\n",
       "      <td>4D SEDAN SE</td>\n",
       "      <td>A</td>\n",
       "      <td>4</td>\n",
       "      <td>Open</td>\n",
       "      <td>Below</td>\n",
       "      <td>GRAY</td>\n",
       "      <td>NewJersey</td>\n",
       "      <td>13050</td>\n",
       "      <td>52970</td>\n",
       "      <td>...</td>\n",
       "      <td>0</td>\n",
       "      <td>0</td>\n",
       "      <td>0</td>\n",
       "      <td>0</td>\n",
       "      <td>0</td>\n",
       "      <td>0</td>\n",
       "      <td>0</td>\n",
       "      <td>0</td>\n",
       "      <td>0</td>\n",
       "      <td>0</td>\n",
       "    </tr>\n",
       "    <tr>\n",
       "      <th>4</th>\n",
       "      <td>2012</td>\n",
       "      <td>4D SEDAN SE</td>\n",
       "      <td>A</td>\n",
       "      <td>6</td>\n",
       "      <td>Open</td>\n",
       "      <td>Avg</td>\n",
       "      <td>WHITE</td>\n",
       "      <td>MILWAUKE</td>\n",
       "      <td>15450</td>\n",
       "      <td>31223</td>\n",
       "      <td>...</td>\n",
       "      <td>0</td>\n",
       "      <td>0</td>\n",
       "      <td>0</td>\n",
       "      <td>0</td>\n",
       "      <td>0</td>\n",
       "      <td>0</td>\n",
       "      <td>0</td>\n",
       "      <td>0</td>\n",
       "      <td>0</td>\n",
       "      <td>0</td>\n",
       "    </tr>\n",
       "  </tbody>\n",
       "</table>\n",
       "<p>5 rows × 31 columns</p>\n",
       "</div>"
      ],
      "text/plain": [
       "   YEAR  Model_SE_LE Transm  Engine TYPE_A   Cond  Color    Auction  Price  \\\n",
       "0  2010  4D SEDAN LE      A       4   Open    Avg   GRAY   NASHVILL   8190   \n",
       "1  2012  4D SEDAN SE      M       4   Open    Avg  WHITE    ATLANTA  15300   \n",
       "2  2011  4D SEDAN LE      A       4   Open  Above   GRAY   NASHVILL  11610   \n",
       "3  2013  4D SEDAN SE      A       4   Open  Below   GRAY  NewJersey  13050   \n",
       "4  2012  4D SEDAN SE      A       6   Open    Avg  WHITE   MILWAUKE  15450   \n",
       "\n",
       "   Odometer  ...  SILVER  BEIGE  GREEN  GOLD  California  SEATTLE  DALLAS  \\\n",
       "0    104770  ...       0      0      0     0           0        0       0   \n",
       "1     45460  ...       0      0      0     0           0        0       0   \n",
       "2     44230  ...       0      0      0     0           0        0       0   \n",
       "3     52970  ...       0      0      0     0           0        0       0   \n",
       "4     31223  ...       0      0      0     0           0        0       0   \n",
       "\n",
       "   ORLANDO  Pennsylvan  OHIO  \n",
       "0        0           0     0  \n",
       "1        0           0     0  \n",
       "2        0           0     0  \n",
       "3        0           0     0  \n",
       "4        0           0     0  \n",
       "\n",
       "[5 rows x 31 columns]"
      ]
     },
     "execution_count": 3,
     "metadata": {},
     "output_type": "execute_result"
    }
   ],
   "source": [
    "df.head()"
   ]
  },
  {
   "cell_type": "markdown",
   "id": "57536a4a",
   "metadata": {},
   "source": [
    "### 1.Confidence Interval estimate\n",
    "- Range of numbers constructed around the Point estimate based on % confidence interval\n",
    "- Confidence intervals are a way of quantifying the uncertainty of an estimate"
   ]
  },
  {
   "cell_type": "markdown",
   "id": "bfa37501",
   "metadata": {},
   "source": [
    "**Construct interval estimate for Price of all car population at 95% C.L**"
   ]
  },
  {
   "cell_type": "code",
   "execution_count": 4,
   "id": "3a8a6eb0",
   "metadata": {},
   "outputs": [
    {
     "data": {
      "text/plain": [
       "13775.861666666666"
      ]
     },
     "execution_count": 4,
     "metadata": {},
     "output_type": "execute_result"
    }
   ],
   "source": [
    "df.Price.mean()"
   ]
  },
  {
   "cell_type": "code",
   "execution_count": 5,
   "id": "fd13dcfd",
   "metadata": {},
   "outputs": [
    {
     "data": {
      "text/plain": [
       "3125.0425494485494"
      ]
     },
     "execution_count": 5,
     "metadata": {},
     "output_type": "execute_result"
    }
   ],
   "source": [
    "np.std(df.Price) # std population"
   ]
  },
  {
   "cell_type": "code",
   "execution_count": 6,
   "id": "f1337e2d",
   "metadata": {},
   "outputs": [
    {
     "data": {
      "text/plain": [
       "3127.650011353533"
      ]
     },
     "execution_count": 6,
     "metadata": {},
     "output_type": "execute_result"
    }
   ],
   "source": [
    "np.std(df.Price,ddof=1) # std sample"
   ]
  },
  {
   "cell_type": "code",
   "execution_count": 7,
   "id": "2b652356",
   "metadata": {},
   "outputs": [
    {
     "data": {
      "text/plain": [
       "3127.650011353533"
      ]
     },
     "execution_count": 7,
     "metadata": {},
     "output_type": "execute_result"
    }
   ],
   "source": [
    "df.Price.std() # std sample"
   ]
  },
  {
   "cell_type": "code",
   "execution_count": 8,
   "id": "29d10af1",
   "metadata": {},
   "outputs": [
    {
     "data": {
      "text/plain": [
       "127.68577703043617"
      ]
     },
     "execution_count": 8,
     "metadata": {},
     "output_type": "execute_result"
    }
   ],
   "source": [
    "st.sem(df.Price,ddof=1) # sample\n",
    "# Standard error express how the Sample results vary from sample to sample \n",
    "# If sample size increase X times, the standard error will decrease 1/√𝑥 times\n",
    "# The Standard Error of the Mean describes how far a sample mean may vary from the population mean"
   ]
  },
  {
   "cell_type": "code",
   "execution_count": 9,
   "id": "773b4dae",
   "metadata": {},
   "outputs": [],
   "source": [
    "confidence_level= 0.95"
   ]
  },
  {
   "cell_type": "code",
   "execution_count": 10,
   "id": "b2b147e5",
   "metadata": {},
   "outputs": [
    {
     "data": {
      "text/plain": [
       "(13525.810778920753, 14025.912554412578)"
      ]
     },
     "execution_count": 10,
     "metadata": {},
     "output_type": "execute_result"
    }
   ],
   "source": [
    "# Normal distribution (Only used when std of population is known)\n",
    "st.norm.interval(alpha=confidence_level, loc=df.Price.mean(), scale=st.sem(df.Price,ddof=0))"
   ]
  },
  {
   "cell_type": "code",
   "execution_count": 11,
   "id": "e183547f",
   "metadata": {},
   "outputs": [
    {
     "data": {
      "text/plain": [
       "(13525.095451424957, 14026.627881908375)"
      ]
     },
     "execution_count": 11,
     "metadata": {},
     "output_type": "execute_result"
    }
   ],
   "source": [
    "# Student's t distribution (used when std of population is unknown)\n",
    "interval= st.t.interval(confidence_level, df.Price.shape[0]-1, df.Price.mean(), st.sem(df.Price,ddof=1))\n",
    "# At 95% condifence, we can conclude that mean Odometer of all cars population is within below interval\n",
    "# If we choose another different 600 samples, 95% interval construct would include population mean\n",
    "interval"
   ]
  },
  {
   "cell_type": "code",
   "execution_count": 12,
   "id": "3c27e9ad",
   "metadata": {},
   "outputs": [
    {
     "name": "stderr",
     "output_type": "stream",
     "text": [
      "C:\\Users\\tangh\\AppData\\Roaming\\Python\\Python38\\site-packages\\seaborn\\distributions.py:2557: FutureWarning: `distplot` is a deprecated function and will be removed in a future version. Please adapt your code to use either `displot` (a figure-level function with similar flexibility) or `histplot` (an axes-level function for histograms).\n",
      "  warnings.warn(msg, FutureWarning)\n"
     ]
    },
    {
     "data": {
      "text/plain": [
       "<AxesSubplot:xlabel='Price', ylabel='Density'>"
      ]
     },
     "execution_count": 12,
     "metadata": {},
     "output_type": "execute_result"
    },
    {
     "data": {
      "image/png": "[encoded data removed]",
      "text/plain": [
       "<Figure size 432x288 with 1 Axes>"
      ]
     },
     "metadata": {
      "needs_background": "light"
     },
     "output_type": "display_data"
    }
   ],
   "source": [
    "sns.distplot(df.Price,hist=True)"
   ]
  },
  {
   "cell_type": "markdown",
   "id": "e29d3154",
   "metadata": {},
   "source": [
    "**Construct Confidence interval for a sample with Mean=7.5, std=2.3, n=100, Confidence level=95%**"
   ]
  },
  {
   "cell_type": "code",
   "execution_count": 13,
   "id": "d4c9abf5",
   "metadata": {},
   "outputs": [],
   "source": [
    "mu = 7.5\n",
    "std = 2.3\n",
    "n=100\n",
    "heights = st.norm.rvs(loc=mu, scale=std, size=n) \n",
    "# create normal distribution database"
   ]
  },
  {
   "cell_type": "code",
   "execution_count": 14,
   "id": "5618d206",
   "metadata": {},
   "outputs": [
    {
     "data": {
      "text/plain": [
       "100"
      ]
     },
     "execution_count": 14,
     "metadata": {},
     "output_type": "execute_result"
    }
   ],
   "source": [
    "len(heights)"
   ]
  },
  {
   "cell_type": "code",
   "execution_count": 15,
   "id": "18ced56d",
   "metadata": {},
   "outputs": [
    {
     "data": {
      "text/plain": [
       "1.9842169515086827"
      ]
     },
     "execution_count": 15,
     "metadata": {},
     "output_type": "execute_result"
    }
   ],
   "source": [
    "st.t.ppf(0.975, n-1)\n",
    "#t Value "
   ]
  },
  {
   "cell_type": "code",
   "execution_count": 16,
   "id": "07f0dbe1",
   "metadata": {},
   "outputs": [
    {
     "data": {
      "text/plain": [
       "(7.2389978075292, 8.069501780365425)"
      ]
     },
     "execution_count": 16,
     "metadata": {},
     "output_type": "execute_result"
    }
   ],
   "source": [
    "st.t.interval(0.95, n-1, loc=heights.mean(), scale=st.sem(heights,ddof=1)) \n",
    "# Confident interval"
   ]
  },
  {
   "cell_type": "code",
   "execution_count": 17,
   "id": "7211e4ae",
   "metadata": {},
   "outputs": [
    {
     "data": {
      "text/plain": [
       "(-inf, 8.069501780365425)"
      ]
     },
     "execution_count": 17,
     "metadata": {},
     "output_type": "execute_result"
    }
   ],
   "source": [
    "import statsmodels.stats.api as sms\n",
    "sms.DescrStatsW(heights).tconfint_mean(alpha=0.025,  alternative='smaller')"
   ]
  },
  {
   "cell_type": "code",
   "execution_count": 18,
   "id": "ae6008e0",
   "metadata": {},
   "outputs": [
    {
     "data": {
      "text/plain": [
       "(7.238997807529199, inf)"
      ]
     },
     "execution_count": 18,
     "metadata": {},
     "output_type": "execute_result"
    }
   ],
   "source": [
    "sms.DescrStatsW(heights).tconfint_mean(alpha=0.025,  alternative='larger')"
   ]
  },
  {
   "cell_type": "markdown",
   "id": "bde3932a",
   "metadata": {},
   "source": [
    "**Construct interval estimate for percentage of Silver car population at 90% C.L**"
   ]
  },
  {
   "cell_type": "code",
   "execution_count": 19,
   "id": "29a3a574",
   "metadata": {},
   "outputs": [],
   "source": [
    "import statsmodels\n",
    "from statsmodels.stats import proportion"
   ]
  },
  {
   "cell_type": "code",
   "execution_count": 20,
   "id": "42dc4e81",
   "metadata": {},
   "outputs": [
    {
     "data": {
      "text/plain": [
       "95"
      ]
     },
     "execution_count": 20,
     "metadata": {},
     "output_type": "execute_result"
    }
   ],
   "source": [
    "df.SILVER.sum()"
   ]
  },
  {
   "cell_type": "code",
   "execution_count": 21,
   "id": "d3fd9cd9",
   "metadata": {},
   "outputs": [
    {
     "data": {
      "text/plain": [
       "(0.13381968943683384, 0.1828469772298328)"
      ]
     },
     "execution_count": 21,
     "metadata": {},
     "output_type": "execute_result"
    }
   ],
   "source": [
    "statsmodels.stats.proportion.proportion_confint(df.SILVER.sum(), df.shape[0], alpha=0.1, method='normal')\n",
    "# With 90% confidence, the percentage of Silver car in all car population is between 13%-18%"
   ]
  },
  {
   "cell_type": "markdown",
   "id": "e952e1b4",
   "metadata": {},
   "source": [
    "### 2.One population T Test\n",
    "- The One Sample t Test examines whether the mean of a population is statistically different from a known or hypothesized value. The One Sample t Test is a parametric test\n",
    "- Use t test when population std is unknown (most of the case)\n",
    "- https://libguides.library.kent.edu/SPSS/OneSampletTest"
   ]
  },
  {
   "cell_type": "markdown",
   "id": "0df739f1",
   "metadata": {},
   "source": [
    "**Is there evidence that the population mean odometer reading of the used cars at auction is equal to 45,000 miles at the 0.09 level of significance?**\n"
   ]
  },
  {
   "cell_type": "code",
   "execution_count": 22,
   "id": "329ef63c",
   "metadata": {},
   "outputs": [],
   "source": [
    "from scipy.stats import ttest_1samp"
   ]
  },
  {
   "cell_type": "code",
   "execution_count": 23,
   "id": "e9fc295a",
   "metadata": {},
   "outputs": [
    {
     "data": {
      "text/plain": [
       "44765.331666666665"
      ]
     },
     "execution_count": 23,
     "metadata": {},
     "output_type": "execute_result"
    }
   ],
   "source": [
    "df.Odometer.mean()"
   ]
  },
  {
   "cell_type": "code",
   "execution_count": 24,
   "id": "a69369d7",
   "metadata": {},
   "outputs": [],
   "source": [
    "tscore, pvalue = ttest_1samp(df.Odometer, popmean=45000)\n",
    "#tSTAT and p-value"
   ]
  },
  {
   "cell_type": "markdown",
   "id": "bd609cf5",
   "metadata": {},
   "source": [
    "*Critical value*"
   ]
  },
  {
   "cell_type": "code",
   "execution_count": 25,
   "id": "29e97e63",
   "metadata": {},
   "outputs": [
    {
     "data": {
      "text/plain": [
       "-0.1842003392532204"
      ]
     },
     "execution_count": 25,
     "metadata": {},
     "output_type": "execute_result"
    }
   ],
   "source": [
    "tscore\n",
    "#tscore > abs|critical value|--> Reject H0"
   ]
  },
  {
   "cell_type": "code",
   "execution_count": 26,
   "id": "edf9c980",
   "metadata": {},
   "outputs": [
    {
     "data": {
      "text/plain": [
       "-1.6981436476719858"
      ]
     },
     "execution_count": 26,
     "metadata": {},
     "output_type": "execute_result"
    }
   ],
   "source": [
    "st.t.ppf(.09/2,df.Odometer.shape[0]-1) #left tail critical value"
   ]
  },
  {
   "cell_type": "code",
   "execution_count": 27,
   "id": "70557686",
   "metadata": {},
   "outputs": [
    {
     "data": {
      "text/plain": [
       "1.6981436476719853"
      ]
     },
     "execution_count": 27,
     "metadata": {},
     "output_type": "execute_result"
    }
   ],
   "source": [
    "st.t.ppf(1-.09/2,df.Odometer.shape[0]-1) # right tail critical value"
   ]
  },
  {
   "cell_type": "markdown",
   "id": "4ab1f9dd",
   "metadata": {},
   "source": [
    "*p-value*"
   ]
  },
  {
   "cell_type": "code",
   "execution_count": 28,
   "id": "d0d92572",
   "metadata": {},
   "outputs": [
    {
     "data": {
      "text/plain": [
       "0.8539186343710293"
      ]
     },
     "execution_count": 28,
     "metadata": {},
     "output_type": "execute_result"
    }
   ],
   "source": [
    "pvalue\n",
    "# pvalue > 0.09 --> not reject H0. There is insufficient evidence exists to prove that population mean is different from 45,000\n",
    "# p-value is the probability of getting a sample result (mean=44,765) if H0 is correct (parameter mean= 45,000)"
   ]
  },
  {
   "cell_type": "markdown",
   "id": "97567052",
   "metadata": {},
   "source": [
    "### 3.One population Z Test for proportion"
   ]
  },
  {
   "cell_type": "markdown",
   "id": "24289feb",
   "metadata": {},
   "source": [
    "**Is there evidence that the propotion of Silver car in total all population car is equal to 10% at the 0.09 level of significance?**"
   ]
  },
  {
   "cell_type": "code",
   "execution_count": 29,
   "id": "23a5b93e",
   "metadata": {},
   "outputs": [],
   "source": [
    "from statsmodels.stats.proportion import proportions_ztest"
   ]
  },
  {
   "cell_type": "code",
   "execution_count": 30,
   "id": "5ebb1247",
   "metadata": {},
   "outputs": [],
   "source": [
    "stat, p_value = proportions_ztest(count=df.SILVER.sum(), nobs=600, value=0.10, alternative='two-sided')"
   ]
  },
  {
   "cell_type": "code",
   "execution_count": 31,
   "id": "960ff560",
   "metadata": {},
   "outputs": [
    {
     "data": {
      "text/plain": [
       "3.914138400256522"
      ]
     },
     "execution_count": 31,
     "metadata": {},
     "output_type": "execute_result"
    }
   ],
   "source": [
    "stat\n",
    "# stat > |Critical value| --> reject H0\n",
    "# Proportion of Silver car among all population is different from 10%"
   ]
  },
  {
   "cell_type": "code",
   "execution_count": 32,
   "id": "286897c9",
   "metadata": {},
   "outputs": [
    {
     "data": {
      "text/plain": [
       "-1.6448536269514729"
      ]
     },
     "execution_count": 32,
     "metadata": {},
     "output_type": "execute_result"
    }
   ],
   "source": [
    "st.norm.ppf(.05)\n",
    "#Critical value"
   ]
  },
  {
   "cell_type": "code",
   "execution_count": 33,
   "id": "977b31f4",
   "metadata": {},
   "outputs": [
    {
     "data": {
      "text/plain": [
       "0.0001"
      ]
     },
     "execution_count": 33,
     "metadata": {},
     "output_type": "execute_result"
    }
   ],
   "source": [
    "p_value.round(4)\n",
    "# If H0 is true (% of Silver car among all population is 10%), \n",
    "# probability of getting a sample result of 15.8% form a test is ~0%"
   ]
  },
  {
   "cell_type": "markdown",
   "id": "3aa77c38",
   "metadata": {},
   "source": [
    "### 4. Two independent T Test\n",
    "- Determine if 2 population have same variance using Levene test\n",
    "- Using suittable test based on result of variance test"
   ]
  },
  {
   "cell_type": "markdown",
   "id": "aadae905",
   "metadata": {},
   "source": [
    "**Is there evidence that the population mean ODOMETER READING of 4-cylinder cars is greater than that of 6-cylinder cars? \n",
    "at a 5% level of significance**\n"
   ]
  },
  {
   "cell_type": "markdown",
   "id": "1bebf08c",
   "metadata": {},
   "source": [
    "*Hypothesis*\n",
    "- Ho: M4-cylinder <=M6-cylinder\n",
    "- H1: M4-cylinder >M6-cylinder"
   ]
  },
  {
   "cell_type": "markdown",
   "id": "74cf0896",
   "metadata": {},
   "source": [
    "*Levene Test for population Variance*"
   ]
  },
  {
   "cell_type": "code",
   "execution_count": 34,
   "id": "36875de9",
   "metadata": {},
   "outputs": [],
   "source": [
    "cylinder_4= df[df.Engine==4].Odometer"
   ]
  },
  {
   "cell_type": "code",
   "execution_count": 35,
   "id": "eb60c648",
   "metadata": {},
   "outputs": [],
   "source": [
    "cylinder_6= df[df.Engine==6].Odometer"
   ]
  },
  {
   "cell_type": "code",
   "execution_count": 36,
   "id": "ca9bba7a",
   "metadata": {},
   "outputs": [],
   "source": [
    "w, pvalue= st.levene(cylinder_4,cylinder_6,center= 'mean')"
   ]
  },
  {
   "cell_type": "code",
   "execution_count": 37,
   "id": "bea6e84f",
   "metadata": {},
   "outputs": [
    {
     "data": {
      "text/plain": [
       "5.162459662779704"
      ]
     },
     "execution_count": 37,
     "metadata": {},
     "output_type": "execute_result"
    }
   ],
   "source": [
    "w"
   ]
  },
  {
   "cell_type": "code",
   "execution_count": 38,
   "id": "5e695de8",
   "metadata": {},
   "outputs": [
    {
     "data": {
      "text/plain": [
       "0.0234344399060039"
      ]
     },
     "execution_count": 38,
     "metadata": {},
     "output_type": "execute_result"
    }
   ],
   "source": [
    "pvalue\n",
    "# p-value<0.05 --> Different variance between 2 population"
   ]
  },
  {
   "cell_type": "markdown",
   "id": "1a76f151",
   "metadata": {},
   "source": [
    "*Perform test for 2 independent population*"
   ]
  },
  {
   "cell_type": "code",
   "execution_count": 39,
   "id": "1b3aed4e",
   "metadata": {},
   "outputs": [],
   "source": [
    "tu, pu= st.ttest_ind(cylinder_4,cylinder_6,equal_var=False)\n",
    "# t-test for unequal variance"
   ]
  },
  {
   "cell_type": "code",
   "execution_count": 40,
   "id": "fb7627aa",
   "metadata": {},
   "outputs": [
    {
     "data": {
      "text/plain": [
       "0.6618688380950536"
      ]
     },
     "execution_count": 40,
     "metadata": {},
     "output_type": "execute_result"
    }
   ],
   "source": [
    "tu\n",
    "#tSTAT is not change regardless of 2 tails of 1 tail test"
   ]
  },
  {
   "cell_type": "code",
   "execution_count": 41,
   "id": "1ad4c927",
   "metadata": {},
   "outputs": [
    {
     "data": {
      "text/plain": [
       "1.6474014447241638"
      ]
     },
     "execution_count": 41,
     "metadata": {},
     "output_type": "execute_result"
    }
   ],
   "source": [
    "st.t.ppf(1-.05,df.Odometer.shape[0]-1) # M4-cylinder <=M6-cylinder, upper tail\n",
    "# tu < critical value --> Do not reject H0"
   ]
  },
  {
   "cell_type": "code",
   "execution_count": 42,
   "id": "243dc85f",
   "metadata": {},
   "outputs": [
    {
     "data": {
      "text/plain": [
       "0.2542983791038035"
      ]
     },
     "execution_count": 42,
     "metadata": {},
     "output_type": "execute_result"
    }
   ],
   "source": [
    "pu/2\n",
    "# p value of one tail test > 0.09 --> Can't reject H0\n",
    "# there is insufficient evidence exists to prove H1"
   ]
  },
  {
   "cell_type": "code",
   "execution_count": 43,
   "id": "b8fece49",
   "metadata": {},
   "outputs": [],
   "source": [
    "te, pe= st.ttest_ind(cylinder_4,cylinder_6,equal_var=True)\n",
    "# t-test for equal variance"
   ]
  },
  {
   "cell_type": "code",
   "execution_count": 44,
   "id": "66a4f709",
   "metadata": {},
   "outputs": [
    {
     "data": {
      "text/plain": [
       "0.6015180452552844"
      ]
     },
     "execution_count": 44,
     "metadata": {},
     "output_type": "execute_result"
    }
   ],
   "source": [
    "te\n",
    "#tSTAT is regardless of 2 tails of 1 tail test"
   ]
  },
  {
   "cell_type": "code",
   "execution_count": 45,
   "id": "37a8a1c9",
   "metadata": {},
   "outputs": [
    {
     "data": {
      "text/plain": [
       "0.27386147731860566"
      ]
     },
     "execution_count": 45,
     "metadata": {},
     "output_type": "execute_result"
    }
   ],
   "source": [
    "pe/2\n",
    "# p value of one tail test > 0.05 --> Can't reject H0\n",
    "# there is insufficient evidence exists to prove H1"
   ]
  },
  {
   "cell_type": "markdown",
   "id": "65373472",
   "metadata": {},
   "source": [
    "*using researchpy package*\n",
    "- https://www.pythonfordatascience.org/independent-samples-t-test-python/"
   ]
  },
  {
   "cell_type": "code",
   "execution_count": 46,
   "id": "1a3f5ac0",
   "metadata": {},
   "outputs": [],
   "source": [
    "import researchpy as rp"
   ]
  },
  {
   "cell_type": "code",
   "execution_count": 47,
   "id": "b12ff7dc",
   "metadata": {},
   "outputs": [
    {
     "data": {
      "text/plain": [
       "(    Variable      N          Mean            SD           SE     95% Conf.  \\\n",
       " 0  cylinder4  457.0  45194.229759  32430.236733  1517.022489  42213.007604   \n",
       " 1  cylinder6  143.0  43394.657343  26982.250151  2256.369110  38934.242080   \n",
       " 2   combined  600.0  44765.331667  31206.113832  1273.984262  42263.312889   \n",
       " \n",
       "        Interval  \n",
       " 0  48175.451914  \n",
       " 1  47855.072605  \n",
       " 2  47267.350444  ,\n",
       "                           Welch's t-test    results\n",
       " 0  Difference (cylinder4 - cylinder6) =   1799.5724\n",
       " 1                  Degrees of freedom =    283.2796\n",
       " 2                                   t =      0.6619\n",
       " 3               Two side test p value =      0.5086\n",
       " 4              Difference < 0 p value =      0.7457\n",
       " 5              Difference > 0 p value =      0.2543\n",
       " 6                           Cohen's d =      0.0576\n",
       " 7                           Hedge's g =      0.0576\n",
       " 8                       Glass's delta =      0.0555\n",
       " 9                         Pearson's r =      0.0393)"
      ]
     },
     "execution_count": 47,
     "metadata": {},
     "output_type": "execute_result"
    }
   ],
   "source": [
    "rp.ttest(group1=cylinder_4, group2=cylinder_6, group1_name=\"cylinder4\",group2_name=\"cylinder6\",equal_variances=False,paired=False)"
   ]
  },
  {
   "cell_type": "markdown",
   "id": "481b1759",
   "metadata": {},
   "source": [
    "*Check if population distribution is normal*\n",
    "- One of the assumptions is that the sampling distribution is normally distributed. This test of normality applies to the difference in values between the groups. One method for testing this assumption is the Shapiro-Wilk test. This can be completed using the shapiro() method from Scipy.stats"
   ]
  },
  {
   "cell_type": "code",
   "execution_count": 48,
   "id": "703b6c0b",
   "metadata": {},
   "outputs": [
    {
     "data": {
      "text/plain": [
       "ShapiroResult(statistic=0.886634111404419, pvalue=7.744446224983832e-18)"
      ]
     },
     "execution_count": 48,
     "metadata": {},
     "output_type": "execute_result"
    }
   ],
   "source": [
    "st.shapiro(cylinder_4) #pvalue is very small"
   ]
  },
  {
   "cell_type": "code",
   "execution_count": 49,
   "id": "6f30ecf6",
   "metadata": {},
   "outputs": [
    {
     "data": {
      "text/plain": [
       "ShapiroResult(statistic=0.8688956499099731, pvalue=6.414770381546475e-10)"
      ]
     },
     "execution_count": 49,
     "metadata": {},
     "output_type": "execute_result"
    }
   ],
   "source": [
    "st.shapiro(cylinder_6) #pvalue is very small"
   ]
  },
  {
   "cell_type": "code",
   "execution_count": 50,
   "id": "8da8e431",
   "metadata": {},
   "outputs": [
    {
     "name": "stderr",
     "output_type": "stream",
     "text": [
      "C:\\Users\\tangh\\AppData\\Roaming\\Python\\Python38\\site-packages\\seaborn\\distributions.py:2557: FutureWarning: `distplot` is a deprecated function and will be removed in a future version. Please adapt your code to use either `displot` (a figure-level function with similar flexibility) or `histplot` (an axes-level function for histograms).\n",
      "  warnings.warn(msg, FutureWarning)\n"
     ]
    },
    {
     "data": {
      "image/png": "[encoded data removed]",
      "text/plain": [
       "<Figure size 432x288 with 1 Axes>"
      ]
     },
     "metadata": {
      "needs_background": "light"
     },
     "output_type": "display_data"
    }
   ],
   "source": [
    "sns.distplot(cylinder_4);"
   ]
  },
  {
   "cell_type": "code",
   "execution_count": 51,
   "id": "2f49f82c",
   "metadata": {},
   "outputs": [
    {
     "name": "stderr",
     "output_type": "stream",
     "text": [
      "C:\\Users\\tangh\\AppData\\Roaming\\Python\\Python38\\site-packages\\seaborn\\distributions.py:2557: FutureWarning: `distplot` is a deprecated function and will be removed in a future version. Please adapt your code to use either `displot` (a figure-level function with similar flexibility) or `histplot` (an axes-level function for histograms).\n",
      "  warnings.warn(msg, FutureWarning)\n"
     ]
    },
    {
     "data": {
      "image/png": "[encoded data removed]",
      "text/plain": [
       "<Figure size 432x288 with 1 Axes>"
      ]
     },
     "metadata": {
      "needs_background": "light"
     },
     "output_type": "display_data"
    }
   ],
   "source": [
    "sns.distplot(cylinder_6);"
   ]
  },
  {
   "cell_type": "code",
   "execution_count": null,
   "id": "c46f3db9",
   "metadata": {},
   "outputs": [],
   "source": []
  },
  {
   "cell_type": "markdown",
   "id": "db400974",
   "metadata": {},
   "source": [
    "**Is there evidence that the % of Silver car is greater than that of Red car at a 9% level of significance**\n",
    "- prop1 : Silver\n",
    "- prop2: Red\n",
    "- Ho: prop1 - prop2<=0 ->upper\n",
    "- H1: prop1 - prop2>0 -> Larger test"
   ]
  },
  {
   "cell_type": "markdown",
   "id": "2b95515d",
   "metadata": {},
   "source": [
    "https://www.statsmodels.org/stable/generated/statsmodels.stats.proportion.test_proportions_2indep.html#statsmodels.stats.proportion.test_proportions_2indep"
   ]
  },
  {
   "cell_type": "code",
   "execution_count": 52,
   "id": "ca4b7cc8",
   "metadata": {},
   "outputs": [
    {
     "data": {
      "text/html": [
       "<div>\n",
       "<style scoped>\n",
       "    .dataframe tbody tr th:only-of-type {\n",
       "        vertical-align: middle;\n",
       "    }\n",
       "\n",
       "    .dataframe tbody tr th {\n",
       "        vertical-align: top;\n",
       "    }\n",
       "\n",
       "    .dataframe thead th {\n",
       "        text-align: right;\n",
       "    }\n",
       "</style>\n",
       "<table border=\"1\" class=\"dataframe\">\n",
       "  <thead>\n",
       "    <tr style=\"text-align: right;\">\n",
       "      <th></th>\n",
       "      <th>YEAR</th>\n",
       "      <th>Model_SE_LE</th>\n",
       "      <th>Transm</th>\n",
       "      <th>Engine</th>\n",
       "      <th>TYPE_A</th>\n",
       "      <th>Cond</th>\n",
       "      <th>Color</th>\n",
       "      <th>Auction</th>\n",
       "      <th>Price</th>\n",
       "      <th>Odometer</th>\n",
       "      <th>...</th>\n",
       "      <th>SILVER</th>\n",
       "      <th>BEIGE</th>\n",
       "      <th>GREEN</th>\n",
       "      <th>GOLD</th>\n",
       "      <th>California</th>\n",
       "      <th>SEATTLE</th>\n",
       "      <th>DALLAS</th>\n",
       "      <th>ORLANDO</th>\n",
       "      <th>Pennsylvan</th>\n",
       "      <th>OHIO</th>\n",
       "    </tr>\n",
       "  </thead>\n",
       "  <tbody>\n",
       "    <tr>\n",
       "      <th>0</th>\n",
       "      <td>2010</td>\n",
       "      <td>4D SEDAN LE</td>\n",
       "      <td>A</td>\n",
       "      <td>4</td>\n",
       "      <td>Open</td>\n",
       "      <td>Avg</td>\n",
       "      <td>GRAY</td>\n",
       "      <td>NASHVILL</td>\n",
       "      <td>8190</td>\n",
       "      <td>104770</td>\n",
       "      <td>...</td>\n",
       "      <td>0</td>\n",
       "      <td>0</td>\n",
       "      <td>0</td>\n",
       "      <td>0</td>\n",
       "      <td>0</td>\n",
       "      <td>0</td>\n",
       "      <td>0</td>\n",
       "      <td>0</td>\n",
       "      <td>0</td>\n",
       "      <td>0</td>\n",
       "    </tr>\n",
       "    <tr>\n",
       "      <th>1</th>\n",
       "      <td>2012</td>\n",
       "      <td>4D SEDAN SE</td>\n",
       "      <td>M</td>\n",
       "      <td>4</td>\n",
       "      <td>Open</td>\n",
       "      <td>Avg</td>\n",
       "      <td>WHITE</td>\n",
       "      <td>ATLANTA</td>\n",
       "      <td>15300</td>\n",
       "      <td>45460</td>\n",
       "      <td>...</td>\n",
       "      <td>0</td>\n",
       "      <td>0</td>\n",
       "      <td>0</td>\n",
       "      <td>0</td>\n",
       "      <td>0</td>\n",
       "      <td>0</td>\n",
       "      <td>0</td>\n",
       "      <td>0</td>\n",
       "      <td>0</td>\n",
       "      <td>0</td>\n",
       "    </tr>\n",
       "    <tr>\n",
       "      <th>2</th>\n",
       "      <td>2011</td>\n",
       "      <td>4D SEDAN LE</td>\n",
       "      <td>A</td>\n",
       "      <td>4</td>\n",
       "      <td>Open</td>\n",
       "      <td>Above</td>\n",
       "      <td>GRAY</td>\n",
       "      <td>NASHVILL</td>\n",
       "      <td>11610</td>\n",
       "      <td>44230</td>\n",
       "      <td>...</td>\n",
       "      <td>0</td>\n",
       "      <td>0</td>\n",
       "      <td>0</td>\n",
       "      <td>0</td>\n",
       "      <td>0</td>\n",
       "      <td>0</td>\n",
       "      <td>0</td>\n",
       "      <td>0</td>\n",
       "      <td>0</td>\n",
       "      <td>0</td>\n",
       "    </tr>\n",
       "    <tr>\n",
       "      <th>3</th>\n",
       "      <td>2013</td>\n",
       "      <td>4D SEDAN SE</td>\n",
       "      <td>A</td>\n",
       "      <td>4</td>\n",
       "      <td>Open</td>\n",
       "      <td>Below</td>\n",
       "      <td>GRAY</td>\n",
       "      <td>NewJersey</td>\n",
       "      <td>13050</td>\n",
       "      <td>52970</td>\n",
       "      <td>...</td>\n",
       "      <td>0</td>\n",
       "      <td>0</td>\n",
       "      <td>0</td>\n",
       "      <td>0</td>\n",
       "      <td>0</td>\n",
       "      <td>0</td>\n",
       "      <td>0</td>\n",
       "      <td>0</td>\n",
       "      <td>0</td>\n",
       "      <td>0</td>\n",
       "    </tr>\n",
       "    <tr>\n",
       "      <th>4</th>\n",
       "      <td>2012</td>\n",
       "      <td>4D SEDAN SE</td>\n",
       "      <td>A</td>\n",
       "      <td>6</td>\n",
       "      <td>Open</td>\n",
       "      <td>Avg</td>\n",
       "      <td>WHITE</td>\n",
       "      <td>MILWAUKE</td>\n",
       "      <td>15450</td>\n",
       "      <td>31223</td>\n",
       "      <td>...</td>\n",
       "      <td>0</td>\n",
       "      <td>0</td>\n",
       "      <td>0</td>\n",
       "      <td>0</td>\n",
       "      <td>0</td>\n",
       "      <td>0</td>\n",
       "      <td>0</td>\n",
       "      <td>0</td>\n",
       "      <td>0</td>\n",
       "      <td>0</td>\n",
       "    </tr>\n",
       "  </tbody>\n",
       "</table>\n",
       "<p>5 rows × 31 columns</p>\n",
       "</div>"
      ],
      "text/plain": [
       "   YEAR  Model_SE_LE Transm  Engine TYPE_A   Cond  Color    Auction  Price  \\\n",
       "0  2010  4D SEDAN LE      A       4   Open    Avg   GRAY   NASHVILL   8190   \n",
       "1  2012  4D SEDAN SE      M       4   Open    Avg  WHITE    ATLANTA  15300   \n",
       "2  2011  4D SEDAN LE      A       4   Open  Above   GRAY   NASHVILL  11610   \n",
       "3  2013  4D SEDAN SE      A       4   Open  Below   GRAY  NewJersey  13050   \n",
       "4  2012  4D SEDAN SE      A       6   Open    Avg  WHITE   MILWAUKE  15450   \n",
       "\n",
       "   Odometer  ...  SILVER  BEIGE  GREEN  GOLD  California  SEATTLE  DALLAS  \\\n",
       "0    104770  ...       0      0      0     0           0        0       0   \n",
       "1     45460  ...       0      0      0     0           0        0       0   \n",
       "2     44230  ...       0      0      0     0           0        0       0   \n",
       "3     52970  ...       0      0      0     0           0        0       0   \n",
       "4     31223  ...       0      0      0     0           0        0       0   \n",
       "\n",
       "   ORLANDO  Pennsylvan  OHIO  \n",
       "0        0           0     0  \n",
       "1        0           0     0  \n",
       "2        0           0     0  \n",
       "3        0           0     0  \n",
       "4        0           0     0  \n",
       "\n",
       "[5 rows x 31 columns]"
      ]
     },
     "execution_count": 52,
     "metadata": {},
     "output_type": "execute_result"
    }
   ],
   "source": [
    "df.head()"
   ]
  },
  {
   "cell_type": "code",
   "execution_count": 53,
   "id": "5e1874c6",
   "metadata": {},
   "outputs": [
    {
     "data": {
      "text/plain": [
       "1.3407550336902165"
      ]
     },
     "execution_count": 53,
     "metadata": {},
     "output_type": "execute_result"
    }
   ],
   "source": [
    "st.norm.ppf(1-.09) # Critical value of upper tail"
   ]
  },
  {
   "cell_type": "code",
   "execution_count": 54,
   "id": "4eac22d3",
   "metadata": {},
   "outputs": [
    {
     "data": {
      "text/plain": [
       "95"
      ]
     },
     "execution_count": 54,
     "metadata": {},
     "output_type": "execute_result"
    }
   ],
   "source": [
    "df.SILVER.sum()"
   ]
  },
  {
   "cell_type": "code",
   "execution_count": 55,
   "id": "fc3f1e54",
   "metadata": {},
   "outputs": [
    {
     "data": {
      "text/plain": [
       "59"
      ]
     },
     "execution_count": 55,
     "metadata": {},
     "output_type": "execute_result"
    }
   ],
   "source": [
    "df.RED.sum()"
   ]
  },
  {
   "cell_type": "code",
   "execution_count": 56,
   "id": "a0d0a65f",
   "metadata": {},
   "outputs": [
    {
     "data": {
      "text/plain": [
       "<class 'statsmodels.stats.base.HolderTuple'>\n",
       "statistic = 3.1017088531973718\n",
       "pvalue = 0.0009620354621901095\n",
       "compare = diff\n",
       "method = agresti-caffo\n",
       "diff = 0.06\n",
       "ratio = 1.6101694915254237\n",
       "odds_ratio = 1.724953851317335\n",
       "variance = 0.00037171489126816895\n",
       "alternative = larger\n",
       "value = 0\n",
       "tuple = (3.1017088531973718, 0.0009620354621901095)"
      ]
     },
     "execution_count": 56,
     "metadata": {},
     "output_type": "execute_result"
    }
   ],
   "source": [
    "statsmodels.stats.proportion.test_proportions_2indep(95, 600,59, 600, value=None, method=None, compare='diff', alternative='larger', correction=True, return_results=True)"
   ]
  },
  {
   "cell_type": "markdown",
   "id": "a5629e59",
   "metadata": {},
   "source": [
    "- tSTAT > critical value (1.34) \n",
    "- p-value<0.09\n",
    "- Reject H0: Accept that % Silver car > % Red car"
   ]
  },
  {
   "cell_type": "markdown",
   "id": "eca3f36d",
   "metadata": {},
   "source": [
    "### 5.Paired test"
   ]
  },
  {
   "cell_type": "code",
   "execution_count": 57,
   "id": "f6d7c909",
   "metadata": {},
   "outputs": [],
   "source": [
    "marketing= pd.read_csv(\"marketing_data.csv\")"
   ]
  },
  {
   "cell_type": "code",
   "execution_count": 58,
   "id": "9cc47d8f",
   "metadata": {},
   "outputs": [
    {
     "data": {
      "text/html": [
       "<div>\n",
       "<style scoped>\n",
       "    .dataframe tbody tr th:only-of-type {\n",
       "        vertical-align: middle;\n",
       "    }\n",
       "\n",
       "    .dataframe tbody tr th {\n",
       "        vertical-align: top;\n",
       "    }\n",
       "\n",
       "    .dataframe thead th {\n",
       "        text-align: right;\n",
       "    }\n",
       "</style>\n",
       "<table border=\"1\" class=\"dataframe\">\n",
       "  <thead>\n",
       "    <tr style=\"text-align: right;\">\n",
       "      <th></th>\n",
       "      <th>ID</th>\n",
       "      <th>Year_Birth</th>\n",
       "      <th>Education</th>\n",
       "      <th>Marital_Status</th>\n",
       "      <th>Income</th>\n",
       "      <th>Kidhome</th>\n",
       "      <th>Teenhome</th>\n",
       "      <th>Dt_Customer</th>\n",
       "      <th>Recency</th>\n",
       "      <th>MntWines</th>\n",
       "      <th>...</th>\n",
       "      <th>NumStorePurchases</th>\n",
       "      <th>NumWebVisitsMonth</th>\n",
       "      <th>AcceptedCmp3</th>\n",
       "      <th>AcceptedCmp4</th>\n",
       "      <th>AcceptedCmp5</th>\n",
       "      <th>AcceptedCmp1</th>\n",
       "      <th>AcceptedCmp2</th>\n",
       "      <th>Response</th>\n",
       "      <th>Complain</th>\n",
       "      <th>Country</th>\n",
       "    </tr>\n",
       "  </thead>\n",
       "  <tbody>\n",
       "    <tr>\n",
       "      <th>0</th>\n",
       "      <td>1826</td>\n",
       "      <td>1970</td>\n",
       "      <td>Graduation</td>\n",
       "      <td>Divorced</td>\n",
       "      <td>84835.0</td>\n",
       "      <td>0</td>\n",
       "      <td>0</td>\n",
       "      <td>2014-06-16</td>\n",
       "      <td>0</td>\n",
       "      <td>189</td>\n",
       "      <td>...</td>\n",
       "      <td>6</td>\n",
       "      <td>1</td>\n",
       "      <td>0</td>\n",
       "      <td>0</td>\n",
       "      <td>0</td>\n",
       "      <td>0</td>\n",
       "      <td>0</td>\n",
       "      <td>1</td>\n",
       "      <td>0</td>\n",
       "      <td>Spain</td>\n",
       "    </tr>\n",
       "    <tr>\n",
       "      <th>1</th>\n",
       "      <td>1</td>\n",
       "      <td>1961</td>\n",
       "      <td>Graduation</td>\n",
       "      <td>Single</td>\n",
       "      <td>57091.0</td>\n",
       "      <td>0</td>\n",
       "      <td>0</td>\n",
       "      <td>2014-06-15</td>\n",
       "      <td>0</td>\n",
       "      <td>464</td>\n",
       "      <td>...</td>\n",
       "      <td>7</td>\n",
       "      <td>5</td>\n",
       "      <td>0</td>\n",
       "      <td>0</td>\n",
       "      <td>0</td>\n",
       "      <td>0</td>\n",
       "      <td>1</td>\n",
       "      <td>1</td>\n",
       "      <td>0</td>\n",
       "      <td>Canada</td>\n",
       "    </tr>\n",
       "    <tr>\n",
       "      <th>2</th>\n",
       "      <td>10476</td>\n",
       "      <td>1958</td>\n",
       "      <td>Graduation</td>\n",
       "      <td>Married</td>\n",
       "      <td>67267.0</td>\n",
       "      <td>0</td>\n",
       "      <td>1</td>\n",
       "      <td>2014-05-13</td>\n",
       "      <td>0</td>\n",
       "      <td>134</td>\n",
       "      <td>...</td>\n",
       "      <td>5</td>\n",
       "      <td>2</td>\n",
       "      <td>0</td>\n",
       "      <td>0</td>\n",
       "      <td>0</td>\n",
       "      <td>0</td>\n",
       "      <td>0</td>\n",
       "      <td>0</td>\n",
       "      <td>0</td>\n",
       "      <td>USA</td>\n",
       "    </tr>\n",
       "    <tr>\n",
       "      <th>3</th>\n",
       "      <td>1386</td>\n",
       "      <td>1967</td>\n",
       "      <td>Graduation</td>\n",
       "      <td>Together</td>\n",
       "      <td>32474.0</td>\n",
       "      <td>1</td>\n",
       "      <td>1</td>\n",
       "      <td>2014-05-11</td>\n",
       "      <td>0</td>\n",
       "      <td>10</td>\n",
       "      <td>...</td>\n",
       "      <td>2</td>\n",
       "      <td>7</td>\n",
       "      <td>0</td>\n",
       "      <td>0</td>\n",
       "      <td>0</td>\n",
       "      <td>0</td>\n",
       "      <td>0</td>\n",
       "      <td>0</td>\n",
       "      <td>0</td>\n",
       "      <td>Australia</td>\n",
       "    </tr>\n",
       "    <tr>\n",
       "      <th>4</th>\n",
       "      <td>5371</td>\n",
       "      <td>1989</td>\n",
       "      <td>Graduation</td>\n",
       "      <td>Single</td>\n",
       "      <td>21474.0</td>\n",
       "      <td>1</td>\n",
       "      <td>0</td>\n",
       "      <td>2014-04-08</td>\n",
       "      <td>0</td>\n",
       "      <td>6</td>\n",
       "      <td>...</td>\n",
       "      <td>2</td>\n",
       "      <td>7</td>\n",
       "      <td>1</td>\n",
       "      <td>0</td>\n",
       "      <td>0</td>\n",
       "      <td>0</td>\n",
       "      <td>0</td>\n",
       "      <td>1</td>\n",
       "      <td>0</td>\n",
       "      <td>Spain</td>\n",
       "    </tr>\n",
       "  </tbody>\n",
       "</table>\n",
       "<p>5 rows × 28 columns</p>\n",
       "</div>"
      ],
      "text/plain": [
       "      ID  Year_Birth   Education Marital_Status   Income   Kidhome  Teenhome  \\\n",
       "0   1826        1970  Graduation       Divorced   84835.0        0         0   \n",
       "1      1        1961  Graduation         Single   57091.0        0         0   \n",
       "2  10476        1958  Graduation        Married   67267.0        0         1   \n",
       "3   1386        1967  Graduation       Together   32474.0        1         1   \n",
       "4   5371        1989  Graduation         Single   21474.0        1         0   \n",
       "\n",
       "  Dt_Customer  Recency  MntWines  ...  NumStorePurchases  NumWebVisitsMonth  \\\n",
       "0  2014-06-16        0       189  ...                  6                  1   \n",
       "1  2014-06-15        0       464  ...                  7                  5   \n",
       "2  2014-05-13        0       134  ...                  5                  2   \n",
       "3  2014-05-11        0        10  ...                  2                  7   \n",
       "4  2014-04-08        0         6  ...                  2                  7   \n",
       "\n",
       "   AcceptedCmp3  AcceptedCmp4  AcceptedCmp5  AcceptedCmp1  AcceptedCmp2  \\\n",
       "0             0             0             0             0             0   \n",
       "1             0             0             0             0             1   \n",
       "2             0             0             0             0             0   \n",
       "3             0             0             0             0             0   \n",
       "4             1             0             0             0             0   \n",
       "\n",
       "   Response  Complain    Country  \n",
       "0         1         0      Spain  \n",
       "1         1         0     Canada  \n",
       "2         0         0        USA  \n",
       "3         0         0  Australia  \n",
       "4         1         0      Spain  \n",
       "\n",
       "[5 rows x 28 columns]"
      ]
     },
     "execution_count": 58,
     "metadata": {},
     "output_type": "execute_result"
    }
   ],
   "source": [
    "marketing.head()"
   ]
  },
  {
   "cell_type": "code",
   "execution_count": 59,
   "id": "2bcc7e53",
   "metadata": {},
   "outputs": [
    {
     "data": {
      "text/plain": [
       "Index(['ID', 'Year_Birth', 'Education', 'Marital_Status', ' Income ',\n",
       "       'Kidhome', 'Teenhome', 'Dt_Customer', 'Recency', 'MntWines',\n",
       "       'MntFruits', 'MntMeatProducts', 'MntFishProducts', 'MntSweetProducts',\n",
       "       'MntGoldProds', 'NumDealsPurchases', 'NumWebPurchases',\n",
       "       'NumCatalogPurchases', 'NumStorePurchases', 'NumWebVisitsMonth',\n",
       "       'AcceptedCmp3', 'AcceptedCmp4', 'AcceptedCmp5', 'AcceptedCmp1',\n",
       "       'AcceptedCmp2', 'Response', 'Complain', 'Country'],\n",
       "      dtype='object')"
      ]
     },
     "execution_count": 59,
     "metadata": {},
     "output_type": "execute_result"
    }
   ],
   "source": [
    "marketing.columns"
   ]
  },
  {
   "cell_type": "code",
   "execution_count": 60,
   "id": "6dc8fab4",
   "metadata": {},
   "outputs": [
    {
     "data": {
      "text/plain": [
       "27.06294642857143"
      ]
     },
     "execution_count": 60,
     "metadata": {},
     "output_type": "execute_result"
    }
   ],
   "source": [
    "marketing.MntSweetProducts.mean()"
   ]
  },
  {
   "cell_type": "code",
   "execution_count": 61,
   "id": "6bd20b7a",
   "metadata": {},
   "outputs": [
    {
     "data": {
      "text/plain": [
       "26.302232142857143"
      ]
     },
     "execution_count": 61,
     "metadata": {},
     "output_type": "execute_result"
    }
   ],
   "source": [
    "marketing.MntFruits.mean()"
   ]
  },
  {
   "cell_type": "markdown",
   "id": "b1b12e45",
   "metadata": {},
   "source": [
    "**at 0.05 level of significance, is there evidence of a difference in the average spending between Sweet Products and Fruits?**\n",
    "- Ho: equal mean\n",
    "- H1: different mean"
   ]
  },
  {
   "cell_type": "code",
   "execution_count": 62,
   "id": "3088721d",
   "metadata": {},
   "outputs": [],
   "source": [
    "t,p= st.ttest_rel(marketing.MntSweetProducts,marketing.MntFruits,alternative='two-sided')\n",
    "# test difference in mean between 2 related sample"
   ]
  },
  {
   "cell_type": "code",
   "execution_count": 63,
   "id": "db9dfb5e",
   "metadata": {},
   "outputs": [
    {
     "data": {
      "text/plain": [
       "0.9542301514669155"
      ]
     },
     "execution_count": 63,
     "metadata": {},
     "output_type": "execute_result"
    }
   ],
   "source": [
    "t"
   ]
  },
  {
   "cell_type": "code",
   "execution_count": 64,
   "id": "ed04ef84",
   "metadata": {},
   "outputs": [
    {
     "data": {
      "text/plain": [
       "1.9610240704476323"
      ]
     },
     "execution_count": 64,
     "metadata": {},
     "output_type": "execute_result"
    }
   ],
   "source": [
    "st.t.ppf(1-.025,marketing.shape[0]-1) # critical value of 2 tail test"
   ]
  },
  {
   "cell_type": "code",
   "execution_count": 65,
   "id": "96e86b8e",
   "metadata": {},
   "outputs": [
    {
     "data": {
      "text/plain": [
       "0.3400701626329289"
      ]
     },
     "execution_count": 65,
     "metadata": {},
     "output_type": "execute_result"
    }
   ],
   "source": [
    "p\n",
    "#p>0.05 -> Can not reject H0: equal mean"
   ]
  },
  {
   "cell_type": "markdown",
   "id": "a73fc04a",
   "metadata": {},
   "source": [
    "### 6.One way ANOVA\n",
    "-https://www.pythonfordatascience.org/anova-python/\n",
    "- Populations are normally distributed (Shapiro test or visualization)\n",
    "- Populations have equal variance (Levene test)\n",
    "- Samples are randomly and independently selected"
   ]
  },
  {
   "cell_type": "markdown",
   "id": "56452d36",
   "metadata": {},
   "source": [
    "**Is there any difference in average car Price across Year**"
   ]
  },
  {
   "cell_type": "code",
   "execution_count": 66,
   "id": "e4d304be",
   "metadata": {},
   "outputs": [
    {
     "data": {
      "text/plain": [
       "2012    171\n",
       "2014     97\n",
       "2015     96\n",
       "2013     91\n",
       "2010     79\n",
       "2011     66\n",
       "Name: YEAR, dtype: int64"
      ]
     },
     "execution_count": 66,
     "metadata": {},
     "output_type": "execute_result"
    }
   ],
   "source": [
    "df.YEAR.value_counts()"
   ]
  },
  {
   "cell_type": "code",
   "execution_count": 67,
   "id": "a7ad9593",
   "metadata": {},
   "outputs": [
    {
     "data": {
      "text/plain": [
       "0     8190\n",
       "1    15300\n",
       "2    11610\n",
       "3    13050\n",
       "4    15450\n",
       "Name: Price, dtype: int64"
      ]
     },
     "execution_count": 67,
     "metadata": {},
     "output_type": "execute_result"
    }
   ],
   "source": [
    "df.Price.head()"
   ]
  },
  {
   "cell_type": "code",
   "execution_count": 68,
   "id": "57c2ff15",
   "metadata": {},
   "outputs": [
    {
     "data": {
      "image/png": "[encoded data removed]",
      "text/plain": [
       "<Figure size 864x432 with 1 Axes>"
      ]
     },
     "metadata": {
      "needs_background": "light"
     },
     "output_type": "display_data"
    }
   ],
   "source": [
    "plt.figure(figsize=(12,6))\n",
    "sns.boxplot(x=\"YEAR\",y=\"Price\",data=df, palette=\"Set3\",showmeans= True);\n",
    "# Check distribution"
   ]
  },
  {
   "cell_type": "markdown",
   "id": "b1f03f04",
   "metadata": {},
   "source": [
    "*Check equal variance (Levene test)*"
   ]
  },
  {
   "cell_type": "code",
   "execution_count": 69,
   "id": "7daf7266",
   "metadata": {},
   "outputs": [
    {
     "data": {
      "text/plain": [
       "LeveneResult(statistic=2.1873621906775687, pvalue=0.053954562223875735)"
      ]
     },
     "execution_count": 69,
     "metadata": {},
     "output_type": "execute_result"
    }
   ],
   "source": [
    "st.levene(df.Price[df.YEAR==2010],df.Price[df.YEAR==2011],df.Price[df.YEAR==2012],df.Price[df.YEAR==2012],df.Price[df.YEAR==2014],\n",
    "          df.Price[df.YEAR==2015],center='mean')"
   ]
  },
  {
   "cell_type": "markdown",
   "id": "eaea9d65",
   "metadata": {},
   "source": [
    "- p-value >0.05 -> equal variance"
   ]
  },
  {
   "cell_type": "markdown",
   "id": "263b149b",
   "metadata": {},
   "source": [
    "*using ANOVA*"
   ]
  },
  {
   "cell_type": "code",
   "execution_count": 70,
   "id": "6f92c8e6",
   "metadata": {},
   "outputs": [],
   "source": [
    "import statsmodels.api as sm\n",
    "from statsmodels.formula.api import ols"
   ]
  },
  {
   "cell_type": "code",
   "execution_count": 71,
   "id": "b97acda1",
   "metadata": {},
   "outputs": [
    {
     "data": {
      "text/html": [
       "<div>\n",
       "<style scoped>\n",
       "    .dataframe tbody tr th:only-of-type {\n",
       "        vertical-align: middle;\n",
       "    }\n",
       "\n",
       "    .dataframe tbody tr th {\n",
       "        vertical-align: top;\n",
       "    }\n",
       "\n",
       "    .dataframe thead th {\n",
       "        text-align: right;\n",
       "    }\n",
       "</style>\n",
       "<table border=\"1\" class=\"dataframe\">\n",
       "  <thead>\n",
       "    <tr style=\"text-align: right;\">\n",
       "      <th></th>\n",
       "      <th>sum_sq</th>\n",
       "      <th>df</th>\n",
       "      <th>F</th>\n",
       "      <th>PR(&gt;F)</th>\n",
       "    </tr>\n",
       "  </thead>\n",
       "  <tbody>\n",
       "    <tr>\n",
       "      <th>C(YEAR)</th>\n",
       "      <td>3.941102e+09</td>\n",
       "      <td>5.0</td>\n",
       "      <td>244.055004</td>\n",
       "      <td>2.044922e-141</td>\n",
       "    </tr>\n",
       "    <tr>\n",
       "      <th>Residual</th>\n",
       "      <td>1.918432e+09</td>\n",
       "      <td>594.0</td>\n",
       "      <td>NaN</td>\n",
       "      <td>NaN</td>\n",
       "    </tr>\n",
       "  </tbody>\n",
       "</table>\n",
       "</div>"
      ],
      "text/plain": [
       "                sum_sq     df           F         PR(>F)\n",
       "C(YEAR)   3.941102e+09    5.0  244.055004  2.044922e-141\n",
       "Residual  1.918432e+09  594.0         NaN            NaN"
      ]
     },
     "execution_count": 71,
     "metadata": {},
     "output_type": "execute_result"
    }
   ],
   "source": [
    "model = ols('Price ~C(YEAR)',data=df).fit()\n",
    "anova_table= sm.stats.anova_lm(model,typ=2)\n",
    "anova_table"
   ]
  },
  {
   "cell_type": "markdown",
   "id": "cbdc6b99",
   "metadata": {},
   "source": [
    "*one-way ANOVA using scipy.stats*"
   ]
  },
  {
   "cell_type": "code",
   "execution_count": 72,
   "id": "35d5b94f",
   "metadata": {},
   "outputs": [
    {
     "data": {
      "text/plain": [
       "1      15300\n",
       "4      15450\n",
       "5      14810\n",
       "12     15120\n",
       "14     14900\n",
       "       ...  \n",
       "585    14880\n",
       "589    17780\n",
       "591    12510\n",
       "593    15580\n",
       "599    15735\n",
       "Name: Price, Length: 171, dtype: int64"
      ]
     },
     "execution_count": 72,
     "metadata": {},
     "output_type": "execute_result"
    }
   ],
   "source": [
    "df.Price[df.YEAR==2012]"
   ]
  },
  {
   "cell_type": "code",
   "execution_count": 73,
   "id": "b74d832e",
   "metadata": {},
   "outputs": [],
   "source": [
    "F_oneway,pvalue= st.f_oneway(df.Price[df.YEAR==2010],df.Price[df.YEAR==2011],\n",
    "            df.Price[df.YEAR==2012],df.Price[df.YEAR==2013],\n",
    "           df.Price[df.YEAR==2014],df.Price[df.YEAR==2015])"
   ]
  },
  {
   "cell_type": "code",
   "execution_count": 74,
   "id": "b584bab6",
   "metadata": {},
   "outputs": [
    {
     "data": {
      "text/plain": [
       "244.05500440515038"
      ]
     },
     "execution_count": 74,
     "metadata": {},
     "output_type": "execute_result"
    }
   ],
   "source": [
    "F_oneway"
   ]
  },
  {
   "cell_type": "code",
   "execution_count": 75,
   "id": "70272e6b",
   "metadata": {},
   "outputs": [
    {
     "data": {
      "text/plain": [
       "0.0"
      ]
     },
     "execution_count": 75,
     "metadata": {},
     "output_type": "execute_result"
    }
   ],
   "source": [
    "round(pvalue,4)"
   ]
  },
  {
   "cell_type": "code",
   "execution_count": 76,
   "id": "98f7a0c2",
   "metadata": {},
   "outputs": [
    {
     "name": "stdout",
     "output_type": "stream",
     "text": [
      "\n",
      "\n"
     ]
    },
    {
     "data": {
      "text/html": [
       "<div>\n",
       "<style scoped>\n",
       "    .dataframe tbody tr th:only-of-type {\n",
       "        vertical-align: middle;\n",
       "    }\n",
       "\n",
       "    .dataframe tbody tr th {\n",
       "        vertical-align: top;\n",
       "    }\n",
       "\n",
       "    .dataframe thead th {\n",
       "        text-align: right;\n",
       "    }\n",
       "</style>\n",
       "<table border=\"1\" class=\"dataframe\">\n",
       "  <thead>\n",
       "    <tr style=\"text-align: right;\">\n",
       "      <th></th>\n",
       "      <th>N</th>\n",
       "      <th>Mean</th>\n",
       "      <th>SD</th>\n",
       "      <th>SE</th>\n",
       "      <th>95% Conf.</th>\n",
       "      <th>Interval</th>\n",
       "    </tr>\n",
       "    <tr>\n",
       "      <th>YEAR</th>\n",
       "      <th></th>\n",
       "      <th></th>\n",
       "      <th></th>\n",
       "      <th></th>\n",
       "      <th></th>\n",
       "      <th></th>\n",
       "    </tr>\n",
       "  </thead>\n",
       "  <tbody>\n",
       "    <tr>\n",
       "      <th>2010</th>\n",
       "      <td>79</td>\n",
       "      <td>9237.2785</td>\n",
       "      <td>1918.5534</td>\n",
       "      <td>215.8541</td>\n",
       "      <td>8807.5459</td>\n",
       "      <td>9667.0110</td>\n",
       "    </tr>\n",
       "    <tr>\n",
       "      <th>2011</th>\n",
       "      <td>66</td>\n",
       "      <td>10333.6364</td>\n",
       "      <td>1941.4787</td>\n",
       "      <td>238.9795</td>\n",
       "      <td>9856.3613</td>\n",
       "      <td>10810.9114</td>\n",
       "    </tr>\n",
       "    <tr>\n",
       "      <th>2012</th>\n",
       "      <td>171</td>\n",
       "      <td>14883.5965</td>\n",
       "      <td>1728.8080</td>\n",
       "      <td>132.2053</td>\n",
       "      <td>14622.6211</td>\n",
       "      <td>15144.5719</td>\n",
       "    </tr>\n",
       "    <tr>\n",
       "      <th>2013</th>\n",
       "      <td>91</td>\n",
       "      <td>14073.9670</td>\n",
       "      <td>1844.5390</td>\n",
       "      <td>193.3602</td>\n",
       "      <td>13689.8232</td>\n",
       "      <td>14458.1109</td>\n",
       "    </tr>\n",
       "    <tr>\n",
       "      <th>2014</th>\n",
       "      <td>97</td>\n",
       "      <td>13923.5155</td>\n",
       "      <td>1522.2714</td>\n",
       "      <td>154.5632</td>\n",
       "      <td>13616.7098</td>\n",
       "      <td>14230.3211</td>\n",
       "    </tr>\n",
       "    <tr>\n",
       "      <th>2015</th>\n",
       "      <td>96</td>\n",
       "      <td>17472.3438</td>\n",
       "      <td>1918.2116</td>\n",
       "      <td>195.7767</td>\n",
       "      <td>17083.6780</td>\n",
       "      <td>17861.0095</td>\n",
       "    </tr>\n",
       "  </tbody>\n",
       "</table>\n",
       "</div>"
      ],
      "text/plain": [
       "        N        Mean         SD        SE   95% Conf.    Interval\n",
       "YEAR                                                              \n",
       "2010   79   9237.2785  1918.5534  215.8541   8807.5459   9667.0110\n",
       "2011   66  10333.6364  1941.4787  238.9795   9856.3613  10810.9114\n",
       "2012  171  14883.5965  1728.8080  132.2053  14622.6211  15144.5719\n",
       "2013   91  14073.9670  1844.5390  193.3602  13689.8232  14458.1109\n",
       "2014   97  13923.5155  1522.2714  154.5632  13616.7098  14230.3211\n",
       "2015   96  17472.3438  1918.2116  195.7767  17083.6780  17861.0095"
      ]
     },
     "execution_count": 76,
     "metadata": {},
     "output_type": "execute_result"
    }
   ],
   "source": [
    "rp.summary_cont(df['Price'].groupby(df['YEAR']))"
   ]
  },
  {
   "cell_type": "code",
   "execution_count": 77,
   "id": "7cc11141",
   "metadata": {},
   "outputs": [
    {
     "name": "stdout",
     "output_type": "stream",
     "text": [
      "\n",
      "\n"
     ]
    },
    {
     "data": {
      "text/html": [
       "<div>\n",
       "<style scoped>\n",
       "    .dataframe tbody tr th:only-of-type {\n",
       "        vertical-align: middle;\n",
       "    }\n",
       "\n",
       "    .dataframe tbody tr th {\n",
       "        vertical-align: top;\n",
       "    }\n",
       "\n",
       "    .dataframe thead th {\n",
       "        text-align: right;\n",
       "    }\n",
       "</style>\n",
       "<table border=\"1\" class=\"dataframe\">\n",
       "  <thead>\n",
       "    <tr style=\"text-align: right;\">\n",
       "      <th></th>\n",
       "      <th>Variable</th>\n",
       "      <th>N</th>\n",
       "      <th>Mean</th>\n",
       "      <th>SD</th>\n",
       "      <th>SE</th>\n",
       "      <th>95% Conf.</th>\n",
       "      <th>Interval</th>\n",
       "    </tr>\n",
       "  </thead>\n",
       "  <tbody>\n",
       "    <tr>\n",
       "      <th>0</th>\n",
       "      <td>Price</td>\n",
       "      <td>600.0</td>\n",
       "      <td>13775.8617</td>\n",
       "      <td>3127.65</td>\n",
       "      <td>127.6858</td>\n",
       "      <td>13525.0955</td>\n",
       "      <td>14026.6279</td>\n",
       "    </tr>\n",
       "  </tbody>\n",
       "</table>\n",
       "</div>"
      ],
      "text/plain": [
       "  Variable      N        Mean       SD        SE   95% Conf.    Interval\n",
       "0    Price  600.0  13775.8617  3127.65  127.6858  13525.0955  14026.6279"
      ]
     },
     "execution_count": 77,
     "metadata": {},
     "output_type": "execute_result"
    }
   ],
   "source": [
    "rp.summary_cont(df['Price'])"
   ]
  },
  {
   "cell_type": "markdown",
   "id": "cb24a3af",
   "metadata": {},
   "source": [
    "- the overall average price was 13,775 95% CI(13525,14026) \n",
    "- with group averages seems to increase by years\n",
    "- There is a statistically significant difference between the groups with p-value= 0.000"
   ]
  },
  {
   "cell_type": "markdown",
   "id": "ff523010",
   "metadata": {},
   "source": [
    "### 7. Use Tukey HSD to identify which groups have difference average price"
   ]
  },
  {
   "cell_type": "code",
   "execution_count": 78,
   "id": "23c6c971",
   "metadata": {},
   "outputs": [],
   "source": [
    "from statsmodels.stats.multicomp import pairwise_tukeyhsd"
   ]
  },
  {
   "cell_type": "code",
   "execution_count": 79,
   "id": "e60f9b71",
   "metadata": {},
   "outputs": [],
   "source": [
    "result= pairwise_tukeyhsd(endog=df.Price, groups=df.YEAR, alpha=0.05)"
   ]
  },
  {
   "cell_type": "code",
   "execution_count": 80,
   "id": "1706be1c",
   "metadata": {},
   "outputs": [
    {
     "name": "stdout",
     "output_type": "stream",
     "text": [
      "   Multiple Comparison of Means - Tukey HSD, FWER=0.05    \n",
      "==========================================================\n",
      "group1 group2  meandiff p-adj    lower      upper   reject\n",
      "----------------------------------------------------------\n",
      "  2010   2011 1096.3579 0.0037   239.5248  1953.191   True\n",
      "  2010   2012  5646.318  0.001  4947.3519 6345.2841   True\n",
      "  2010   2013 4836.6886  0.001  4046.5778 5626.7993   True\n",
      "  2010   2014  4686.237  0.001  3907.5648 5464.9092   True\n",
      "  2010   2015 8235.0653  0.001  7454.5748 9015.5557   True\n",
      "  2011   2012 4549.9601  0.001  3805.3964 5294.5239   True\n",
      "  2011   2013 3740.3307  0.001  2909.6102 4571.0511   True\n",
      "  2011   2014 3589.8791  0.001  2770.0304 4409.7278   True\n",
      "  2011   2015 7138.7074  0.001  6317.1316 7960.2832   True\n",
      "  2012   2013 -809.6295 0.0073 -1476.3282 -142.9307   True\n",
      "  2012   2014  -960.081  0.001 -1613.1833 -306.9787   True\n",
      "  2012   2015 2588.7473  0.001  1933.4782 3244.0164   True\n",
      "  2013   2014 -150.4516    0.9  -900.2941   599.391  False\n",
      "  2013   2015 3398.3767  0.001  2646.6461 4150.1073   True\n",
      "  2014   2015 3548.8283  0.001  2809.1295 4288.5271   True\n",
      "----------------------------------------------------------\n"
     ]
    }
   ],
   "source": [
    "print(result)\n",
    "# True means reject H0, sufficient evidence to accept H1, different in average price between Year"
   ]
  },
  {
   "cell_type": "code",
   "execution_count": 81,
   "id": "bce888be",
   "metadata": {},
   "outputs": [
    {
     "data": {
      "text/html": [
       "<div>\n",
       "<style scoped>\n",
       "    .dataframe tbody tr th:only-of-type {\n",
       "        vertical-align: middle;\n",
       "    }\n",
       "\n",
       "    .dataframe tbody tr th {\n",
       "        vertical-align: top;\n",
       "    }\n",
       "\n",
       "    .dataframe thead th {\n",
       "        text-align: right;\n",
       "    }\n",
       "</style>\n",
       "<table border=\"1\" class=\"dataframe\">\n",
       "  <thead>\n",
       "    <tr style=\"text-align: right;\">\n",
       "      <th></th>\n",
       "      <th>YEAR</th>\n",
       "      <th>Model_SE_LE</th>\n",
       "      <th>Transm</th>\n",
       "      <th>Engine</th>\n",
       "      <th>TYPE_A</th>\n",
       "      <th>Cond</th>\n",
       "      <th>Color</th>\n",
       "      <th>Auction</th>\n",
       "      <th>Price</th>\n",
       "      <th>Odometer</th>\n",
       "      <th>...</th>\n",
       "      <th>SILVER</th>\n",
       "      <th>BEIGE</th>\n",
       "      <th>GREEN</th>\n",
       "      <th>GOLD</th>\n",
       "      <th>California</th>\n",
       "      <th>SEATTLE</th>\n",
       "      <th>DALLAS</th>\n",
       "      <th>ORLANDO</th>\n",
       "      <th>Pennsylvan</th>\n",
       "      <th>OHIO</th>\n",
       "    </tr>\n",
       "  </thead>\n",
       "  <tbody>\n",
       "    <tr>\n",
       "      <th>0</th>\n",
       "      <td>2010</td>\n",
       "      <td>4D SEDAN LE</td>\n",
       "      <td>A</td>\n",
       "      <td>4</td>\n",
       "      <td>Open</td>\n",
       "      <td>Avg</td>\n",
       "      <td>GRAY</td>\n",
       "      <td>NASHVILL</td>\n",
       "      <td>8190</td>\n",
       "      <td>104770</td>\n",
       "      <td>...</td>\n",
       "      <td>0</td>\n",
       "      <td>0</td>\n",
       "      <td>0</td>\n",
       "      <td>0</td>\n",
       "      <td>0</td>\n",
       "      <td>0</td>\n",
       "      <td>0</td>\n",
       "      <td>0</td>\n",
       "      <td>0</td>\n",
       "      <td>0</td>\n",
       "    </tr>\n",
       "    <tr>\n",
       "      <th>1</th>\n",
       "      <td>2012</td>\n",
       "      <td>4D SEDAN SE</td>\n",
       "      <td>M</td>\n",
       "      <td>4</td>\n",
       "      <td>Open</td>\n",
       "      <td>Avg</td>\n",
       "      <td>WHITE</td>\n",
       "      <td>ATLANTA</td>\n",
       "      <td>15300</td>\n",
       "      <td>45460</td>\n",
       "      <td>...</td>\n",
       "      <td>0</td>\n",
       "      <td>0</td>\n",
       "      <td>0</td>\n",
       "      <td>0</td>\n",
       "      <td>0</td>\n",
       "      <td>0</td>\n",
       "      <td>0</td>\n",
       "      <td>0</td>\n",
       "      <td>0</td>\n",
       "      <td>0</td>\n",
       "    </tr>\n",
       "    <tr>\n",
       "      <th>2</th>\n",
       "      <td>2011</td>\n",
       "      <td>4D SEDAN LE</td>\n",
       "      <td>A</td>\n",
       "      <td>4</td>\n",
       "      <td>Open</td>\n",
       "      <td>Above</td>\n",
       "      <td>GRAY</td>\n",
       "      <td>NASHVILL</td>\n",
       "      <td>11610</td>\n",
       "      <td>44230</td>\n",
       "      <td>...</td>\n",
       "      <td>0</td>\n",
       "      <td>0</td>\n",
       "      <td>0</td>\n",
       "      <td>0</td>\n",
       "      <td>0</td>\n",
       "      <td>0</td>\n",
       "      <td>0</td>\n",
       "      <td>0</td>\n",
       "      <td>0</td>\n",
       "      <td>0</td>\n",
       "    </tr>\n",
       "    <tr>\n",
       "      <th>3</th>\n",
       "      <td>2013</td>\n",
       "      <td>4D SEDAN SE</td>\n",
       "      <td>A</td>\n",
       "      <td>4</td>\n",
       "      <td>Open</td>\n",
       "      <td>Below</td>\n",
       "      <td>GRAY</td>\n",
       "      <td>NewJersey</td>\n",
       "      <td>13050</td>\n",
       "      <td>52970</td>\n",
       "      <td>...</td>\n",
       "      <td>0</td>\n",
       "      <td>0</td>\n",
       "      <td>0</td>\n",
       "      <td>0</td>\n",
       "      <td>0</td>\n",
       "      <td>0</td>\n",
       "      <td>0</td>\n",
       "      <td>0</td>\n",
       "      <td>0</td>\n",
       "      <td>0</td>\n",
       "    </tr>\n",
       "    <tr>\n",
       "      <th>4</th>\n",
       "      <td>2012</td>\n",
       "      <td>4D SEDAN SE</td>\n",
       "      <td>A</td>\n",
       "      <td>6</td>\n",
       "      <td>Open</td>\n",
       "      <td>Avg</td>\n",
       "      <td>WHITE</td>\n",
       "      <td>MILWAUKE</td>\n",
       "      <td>15450</td>\n",
       "      <td>31223</td>\n",
       "      <td>...</td>\n",
       "      <td>0</td>\n",
       "      <td>0</td>\n",
       "      <td>0</td>\n",
       "      <td>0</td>\n",
       "      <td>0</td>\n",
       "      <td>0</td>\n",
       "      <td>0</td>\n",
       "      <td>0</td>\n",
       "      <td>0</td>\n",
       "      <td>0</td>\n",
       "    </tr>\n",
       "  </tbody>\n",
       "</table>\n",
       "<p>5 rows × 31 columns</p>\n",
       "</div>"
      ],
      "text/plain": [
       "   YEAR  Model_SE_LE Transm  Engine TYPE_A   Cond  Color    Auction  Price  \\\n",
       "0  2010  4D SEDAN LE      A       4   Open    Avg   GRAY   NASHVILL   8190   \n",
       "1  2012  4D SEDAN SE      M       4   Open    Avg  WHITE    ATLANTA  15300   \n",
       "2  2011  4D SEDAN LE      A       4   Open  Above   GRAY   NASHVILL  11610   \n",
       "3  2013  4D SEDAN SE      A       4   Open  Below   GRAY  NewJersey  13050   \n",
       "4  2012  4D SEDAN SE      A       6   Open    Avg  WHITE   MILWAUKE  15450   \n",
       "\n",
       "   Odometer  ...  SILVER  BEIGE  GREEN  GOLD  California  SEATTLE  DALLAS  \\\n",
       "0    104770  ...       0      0      0     0           0        0       0   \n",
       "1     45460  ...       0      0      0     0           0        0       0   \n",
       "2     44230  ...       0      0      0     0           0        0       0   \n",
       "3     52970  ...       0      0      0     0           0        0       0   \n",
       "4     31223  ...       0      0      0     0           0        0       0   \n",
       "\n",
       "   ORLANDO  Pennsylvan  OHIO  \n",
       "0        0           0     0  \n",
       "1        0           0     0  \n",
       "2        0           0     0  \n",
       "3        0           0     0  \n",
       "4        0           0     0  \n",
       "\n",
       "[5 rows x 31 columns]"
      ]
     },
     "execution_count": 81,
     "metadata": {},
     "output_type": "execute_result"
    }
   ],
   "source": [
    "df.head()"
   ]
  },
  {
   "cell_type": "markdown",
   "id": "37a0b2e4",
   "metadata": {},
   "source": [
    "### 8. Chi-square\n",
    "- Testing relationship between categorical features\n",
    "- Ho: there is no significant relationship between 2 features\n",
    "- H1: there is significant relationship\n",
    "- https://towardsdatascience.com/chi-square-test-for-independence-in-python-with-examples-from-the-ibm-hr-analytics-dataset-97b9ec9bb80a"
   ]
  },
  {
   "cell_type": "code",
   "execution_count": 82,
   "id": "8ded3e9a",
   "metadata": {},
   "outputs": [],
   "source": [
    "table=pd.crosstab(df.YEAR, df.Color)"
   ]
  },
  {
   "cell_type": "code",
   "execution_count": 86,
   "id": "1bae5402",
   "metadata": {},
   "outputs": [
    {
     "data": {
      "text/html": [
       "<div>\n",
       "<style scoped>\n",
       "    .dataframe tbody tr th:only-of-type {\n",
       "        vertical-align: middle;\n",
       "    }\n",
       "\n",
       "    .dataframe tbody tr th {\n",
       "        vertical-align: top;\n",
       "    }\n",
       "\n",
       "    .dataframe thead th {\n",
       "        text-align: right;\n",
       "    }\n",
       "</style>\n",
       "<table border=\"1\" class=\"dataframe\">\n",
       "  <thead>\n",
       "    <tr style=\"text-align: right;\">\n",
       "      <th>Color</th>\n",
       "      <th>BEIGE</th>\n",
       "      <th>BLACK</th>\n",
       "      <th>BLUE</th>\n",
       "      <th>GOLD</th>\n",
       "      <th>GRAY</th>\n",
       "      <th>GREEN</th>\n",
       "      <th>RED</th>\n",
       "      <th>SILVER</th>\n",
       "      <th>WHITE</th>\n",
       "    </tr>\n",
       "    <tr>\n",
       "      <th>YEAR</th>\n",
       "      <th></th>\n",
       "      <th></th>\n",
       "      <th></th>\n",
       "      <th></th>\n",
       "      <th></th>\n",
       "      <th></th>\n",
       "      <th></th>\n",
       "      <th></th>\n",
       "      <th></th>\n",
       "    </tr>\n",
       "  </thead>\n",
       "  <tbody>\n",
       "    <tr>\n",
       "      <th>2010</th>\n",
       "      <td>1</td>\n",
       "      <td>7</td>\n",
       "      <td>6</td>\n",
       "      <td>7</td>\n",
       "      <td>18</td>\n",
       "      <td>5</td>\n",
       "      <td>11</td>\n",
       "      <td>16</td>\n",
       "      <td>8</td>\n",
       "    </tr>\n",
       "    <tr>\n",
       "      <th>2011</th>\n",
       "      <td>1</td>\n",
       "      <td>10</td>\n",
       "      <td>7</td>\n",
       "      <td>1</td>\n",
       "      <td>18</td>\n",
       "      <td>0</td>\n",
       "      <td>7</td>\n",
       "      <td>10</td>\n",
       "      <td>12</td>\n",
       "    </tr>\n",
       "    <tr>\n",
       "      <th>2012</th>\n",
       "      <td>2</td>\n",
       "      <td>45</td>\n",
       "      <td>4</td>\n",
       "      <td>4</td>\n",
       "      <td>37</td>\n",
       "      <td>8</td>\n",
       "      <td>20</td>\n",
       "      <td>28</td>\n",
       "      <td>23</td>\n",
       "    </tr>\n",
       "    <tr>\n",
       "      <th>2013</th>\n",
       "      <td>0</td>\n",
       "      <td>12</td>\n",
       "      <td>4</td>\n",
       "      <td>0</td>\n",
       "      <td>30</td>\n",
       "      <td>3</td>\n",
       "      <td>8</td>\n",
       "      <td>13</td>\n",
       "      <td>21</td>\n",
       "    </tr>\n",
       "    <tr>\n",
       "      <th>2014</th>\n",
       "      <td>0</td>\n",
       "      <td>22</td>\n",
       "      <td>5</td>\n",
       "      <td>0</td>\n",
       "      <td>18</td>\n",
       "      <td>3</td>\n",
       "      <td>8</td>\n",
       "      <td>18</td>\n",
       "      <td>23</td>\n",
       "    </tr>\n",
       "    <tr>\n",
       "      <th>2015</th>\n",
       "      <td>2</td>\n",
       "      <td>19</td>\n",
       "      <td>15</td>\n",
       "      <td>2</td>\n",
       "      <td>24</td>\n",
       "      <td>3</td>\n",
       "      <td>5</td>\n",
       "      <td>10</td>\n",
       "      <td>16</td>\n",
       "    </tr>\n",
       "  </tbody>\n",
       "</table>\n",
       "</div>"
      ],
      "text/plain": [
       "Color  BEIGE  BLACK  BLUE  GOLD  GRAY  GREEN  RED  SILVER  WHITE\n",
       "YEAR                                                            \n",
       "2010       1      7     6     7    18      5   11      16      8\n",
       "2011       1     10     7     1    18      0    7      10     12\n",
       "2012       2     45     4     4    37      8   20      28     23\n",
       "2013       0     12     4     0    30      3    8      13     21\n",
       "2014       0     22     5     0    18      3    8      18     23\n",
       "2015       2     19    15     2    24      3    5      10     16"
      ]
     },
     "execution_count": 86,
     "metadata": {},
     "output_type": "execute_result"
    }
   ],
   "source": [
    "table"
   ]
  },
  {
   "cell_type": "code",
   "execution_count": 88,
   "id": "4b77b0ef",
   "metadata": {},
   "outputs": [],
   "source": [
    "from scipy.stats import chi2_contingency\n",
    "from scipy.stats import chi2"
   ]
  },
  {
   "cell_type": "code",
   "execution_count": 89,
   "id": "f777e99e",
   "metadata": {},
   "outputs": [],
   "source": [
    "stat,p,dof,expected= chi2_contingency(table)"
   ]
  },
  {
   "cell_type": "code",
   "execution_count": 90,
   "id": "7dfe39e1",
   "metadata": {},
   "outputs": [
    {
     "data": {
      "text/plain": [
       "(78.10702167172379,\n",
       " 0.0002937562873141593,\n",
       " 40,\n",
       " array([[ 0.79      , 15.14166667,  5.39833333,  1.84333333, 19.09166667,\n",
       "          2.89666667,  7.76833333, 12.50833333, 13.56166667],\n",
       "        [ 0.66      , 12.65      ,  4.51      ,  1.54      , 15.95      ,\n",
       "          2.42      ,  6.49      , 10.45      , 11.33      ],\n",
       "        [ 1.71      , 32.775     , 11.685     ,  3.99      , 41.325     ,\n",
       "          6.27      , 16.815     , 27.075     , 29.355     ],\n",
       "        [ 0.91      , 17.44166667,  6.21833333,  2.12333333, 21.99166667,\n",
       "          3.33666667,  8.94833333, 14.40833333, 15.62166667],\n",
       "        [ 0.97      , 18.59166667,  6.62833333,  2.26333333, 23.44166667,\n",
       "          3.55666667,  9.53833333, 15.35833333, 16.65166667],\n",
       "        [ 0.96      , 18.4       ,  6.56      ,  2.24      , 23.2       ,\n",
       "          3.52      ,  9.44      , 15.2       , 16.48      ]]))"
      ]
     },
     "execution_count": 90,
     "metadata": {},
     "output_type": "execute_result"
    }
   ],
   "source": [
    "(stat,p,dof,expected)\n",
    "#p-value<0.05, reject H0, Dependent"
   ]
  },
  {
   "cell_type": "code",
   "execution_count": null,
   "id": "ca6bab84",
   "metadata": {},
   "outputs": [],
   "source": []
  }
 ],
 "metadata": {
  "kernelspec": {
   "display_name": "Python 3",
   "language": "python",
   "name": "python3"
  },
  "language_info": {
   "codemirror_mode": {
    "name": "ipython",
    "version": 3
   },
   "file_extension": ".py",
   "mimetype": "text/x-python",
   "name": "python",
   "nbconvert_exporter": "python",
   "pygments_lexer": "ipython3",
   "version": "3.8.5"
  }
 },
 "nbformat": 4,
 "nbformat_minor": 5
}
